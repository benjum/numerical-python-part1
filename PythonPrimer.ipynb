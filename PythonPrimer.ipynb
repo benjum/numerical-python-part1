{
 "cells": [
  {
   "cell_type": "markdown",
   "id": "5575f363-5ae5-4c67-a458-7d411e33320c",
   "metadata": {},
   "source": [
    "# Python essentials"
   ]
  },
  {
   "cell_type": "markdown",
   "id": "f12c0824-5f23-40e6-9ef0-6db540b09132",
   "metadata": {},
   "source": [
    "Python is a powerful language with many useful features.  The following introduces core concepts to get us up and running."
   ]
  },
  {
   "cell_type": "markdown",
   "id": "d0f4c0da-e13c-496c-8d8e-11dd282ea1b3",
   "metadata": {},
   "source": [
    "## Intro code"
   ]
  },
  {
   "cell_type": "code",
   "execution_count": null,
   "id": "a341c574-5825-4590-b0a9-17c44d8d4259",
   "metadata": {},
   "outputs": [],
   "source": [
    "x = 34 - 23 \t\t\t# A comment.\n",
    "y = \"Hello\" \t\t\t# Another one.\n",
    "z = 3.45\n",
    "if z == 3.45 or y == \"Hello\":\n",
    "  x = x + 1\n",
    "  y = y + \" World\" \t# String concat.\n",
    "print(x)\n",
    "print(y)"
   ]
  },
  {
   "cell_type": "markdown",
   "id": "0ecff469",
   "metadata": {},
   "source": [
    "## Basic arithmetic"
   ]
  },
  {
   "cell_type": "markdown",
   "id": "656d8a66",
   "metadata": {},
   "source": [
    "Python has standard arithmetic operators for common math operations:"
   ]
  },
  {
   "cell_type": "code",
   "execution_count": null,
   "id": "ed6a0cca",
   "metadata": {},
   "outputs": [],
   "source": [
    "42 + 24"
   ]
  },
  {
   "cell_type": "code",
   "execution_count": null,
   "id": "4228fd63",
   "metadata": {},
   "outputs": [],
   "source": [
    "42 - 24"
   ]
  },
  {
   "cell_type": "code",
   "execution_count": null,
   "id": "b5597afa",
   "metadata": {},
   "outputs": [],
   "source": [
    "42 * 24"
   ]
  },
  {
   "cell_type": "code",
   "execution_count": null,
   "id": "ad3282c6",
   "metadata": {},
   "outputs": [],
   "source": [
    "42 / 24"
   ]
  },
  {
   "cell_type": "code",
   "execution_count": null,
   "id": "6965852c",
   "metadata": {},
   "outputs": [],
   "source": [
    "42 // 24"
   ]
  },
  {
   "cell_type": "code",
   "execution_count": null,
   "id": "1f3ef900",
   "metadata": {},
   "outputs": [],
   "source": [
    "42 % 24"
   ]
  },
  {
   "cell_type": "code",
   "execution_count": null,
   "id": "e861c0cc",
   "metadata": {},
   "outputs": [],
   "source": [
    "42**24"
   ]
  },
  {
   "cell_type": "markdown",
   "id": "ef257f58",
   "metadata": {},
   "source": [
    "# Comments"
   ]
  },
  {
   "cell_type": "markdown",
   "id": "e5d3a1ff",
   "metadata": {},
   "source": [
    "Here in the notebooks we can comment with markdown cells, but Python also has special notation for comments:"
   ]
  },
  {
   "cell_type": "code",
   "execution_count": null,
   "id": "36b4b235",
   "metadata": {},
   "outputs": [],
   "source": [
    "# This is a single line comment"
   ]
  },
  {
   "cell_type": "code",
   "execution_count": null,
   "id": "a940814f",
   "metadata": {},
   "outputs": [],
   "source": [
    "# A two line\n",
    "# comment"
   ]
  },
  {
   "cell_type": "markdown",
   "id": "6207b38f",
   "metadata": {},
   "source": [
    "## Variables and literals"
   ]
  },
  {
   "cell_type": "markdown",
   "id": "315b01e9",
   "metadata": {},
   "source": [
    "Generalizing the mathematical operations on numbers, variables can also be used.\n",
    "\n",
    "A variable is a named location in memory.  For example:"
   ]
  },
  {
   "cell_type": "code",
   "execution_count": null,
   "id": "be4ae2e0",
   "metadata": {},
   "outputs": [],
   "source": [
    "a = 42"
   ]
  },
  {
   "cell_type": "markdown",
   "id": "b62c60e0",
   "metadata": {},
   "source": [
    "`a` is the variable, and its value is now set to 42.  \n",
    "\n",
    "The `=` symbol is used to assign the value on the right to the variable name on the left.  It is *not* a symbol for testing equality."
   ]
  },
  {
   "cell_type": "code",
   "execution_count": null,
   "id": "282c061e",
   "metadata": {},
   "outputs": [],
   "source": [
    "a + 24"
   ]
  },
  {
   "cell_type": "code",
   "execution_count": null,
   "id": "5b306acc",
   "metadata": {},
   "outputs": [],
   "source": [
    "a**24"
   ]
  },
  {
   "cell_type": "code",
   "execution_count": null,
   "id": "707a183e",
   "metadata": {},
   "outputs": [],
   "source": [
    "a"
   ]
  },
  {
   "cell_type": "markdown",
   "id": "30fc5340",
   "metadata": {},
   "source": [
    "Note:  if there is an unassigned expression at the end of a code cell, executing the cell will print the value of that expression (or variable)."
   ]
  },
  {
   "cell_type": "markdown",
   "id": "0c67d80a",
   "metadata": {},
   "source": [
    "Printing output is a common functionality and can be done explicitly with the `print` function."
   ]
  },
  {
   "cell_type": "code",
   "execution_count": null,
   "id": "38ace881",
   "metadata": {},
   "outputs": [],
   "source": [
    "print(a)"
   ]
  },
  {
   "cell_type": "markdown",
   "id": "1e39aa0c",
   "metadata": {},
   "source": [
    "Example math: compound interest calculator with annual contributions\n",
    "\n",
    "* p = principal\n",
    "* r = annual interest rate\n",
    "* y = year of the balance\n",
    "* c = annual contribution (made at the start of the year)\n",
    "\n",
    "$$\\text{Balance}(y) = p(1 + r)^y + c\\left[\\frac{(1 + r)^{y+1} - (1 + r)}{r} \\right]$$"
   ]
  },
  {
   "cell_type": "code",
   "execution_count": null,
   "id": "3ec80d6e",
   "metadata": {},
   "outputs": [],
   "source": [
    "p = 1000\n",
    "r = 0.1\n",
    "y = 45\n",
    "c = 6500\n",
    "\n",
    "balance = p*(1 + r)**y + c*( ((1 + r)**(y+1) - (1 + r)) / r )\n",
    "\n",
    "print(balance)"
   ]
  },
  {
   "cell_type": "markdown",
   "id": "a5dbece9",
   "metadata": {},
   "source": [
    "There are, of course, a variety of other things to operate on besides numbers.  (and we'll come back to **functions** shortly)."
   ]
  },
  {
   "cell_type": "markdown",
   "id": "317586a6",
   "metadata": {},
   "source": [
    "### Strings\n",
    "* an ordered collection of characters\n",
    "* immutable\n",
    "* you can retrieve a specific character using the index operator `[]` with an integer index\n",
    "* you can retrieve a subset of characters using the index operator `[]` and slice notation `[<start>:<end>]` (\\<end\\> is not included)"
   ]
  },
  {
   "cell_type": "code",
   "execution_count": null,
   "id": "28ad5b17",
   "metadata": {},
   "outputs": [],
   "source": [
    "# all of the following are equivalent\n",
    "my_string = 'Arthur'\n",
    "print(my_string)\n",
    "\n",
    "my_string = \"Arthur\"\n",
    "print(my_string)\n",
    "\n",
    "my_string = '''Arthur'''\n",
    "print(my_string)\n",
    "\n",
    "# triple quotes string can extend multiple lines\n",
    "my_string = \"\"\"Hello, Arthur, welcome to\n",
    "           the world of [Monty] Python\"\"\"\n",
    "print(my_string)"
   ]
  },
  {
   "cell_type": "code",
   "execution_count": null,
   "id": "2319a6aa",
   "metadata": {},
   "outputs": [],
   "source": [
    "str0 = 'e.t. phone home!'\n",
    "print('str0 = ', str0) # Output: e.t. phone home!\n",
    "\n",
    "print('str0[0] = ', str0[0]) # Output: e\n",
    "\n",
    "print('str0[-1] = ', str0[-1]) # Output: !\n",
    "\n",
    "#slicing 2nd to 5th character\n",
    "print('str0[1:5] = ', str0[1:5]) # Output: .t.\n",
    "\n",
    "#slicing 6th to 2nd last character\n",
    "print('str0[5:-2] = ', str0[5:-2]) # Output: phone hom"
   ]
  },
  {
   "cell_type": "markdown",
   "id": "1bd23eab-ebf2-466c-94e3-2cd4708d1a6c",
   "metadata": {},
   "source": [
    "<div class=\"alert alert-info\">\n",
    "\n",
    "<b>Your turn:</b>\n",
    "\n",
    "1. Make a variable whose value is a string\n",
    "2. Print a letter (or letters) from the string using the appropriate indexing.\n",
    "\n",
    "</div>"
   ]
  },
  {
   "cell_type": "code",
   "execution_count": null,
   "id": "8411e8b2-1a5d-4c22-8c35-1afb4a63e840",
   "metadata": {},
   "outputs": [],
   "source": []
  },
  {
   "cell_type": "markdown",
   "id": "a1841259",
   "metadata": {},
   "source": [
    "You can use the operators `+` and `*` to concatenate and duplicate strings:"
   ]
  },
  {
   "cell_type": "code",
   "execution_count": null,
   "id": "9ef85fd3",
   "metadata": {},
   "outputs": [],
   "source": [
    "str1 = 'Phone '\n",
    "str2 = 'Home!'\n",
    "\n",
    "# Output: Phone Home!\n",
    "print(str1 + str2)\n",
    "\n",
    "# Phone Phone Phone\n",
    "print(str1 * 3)"
   ]
  },
  {
   "cell_type": "code",
   "execution_count": null,
   "id": "8e1e325d",
   "metadata": {},
   "outputs": [],
   "source": [
    "print('The print function can take two or more input parameters: a =', a)"
   ]
  },
  {
   "cell_type": "code",
   "execution_count": null,
   "id": "43225937",
   "metadata": {},
   "outputs": [],
   "source": [
    "# ERROR!\n",
    "print('The print function can take two or more input parameters: a =' + a)"
   ]
  },
  {
   "cell_type": "markdown",
   "id": "341207d6",
   "metadata": {},
   "source": [
    "You cannot \"add\" strings and integers!\n",
    "* Also, you will find it useful to be able to decipher error messages like this.  We will return to this later."
   ]
  },
  {
   "cell_type": "code",
   "execution_count": null,
   "id": "38eae8cb",
   "metadata": {},
   "outputs": [],
   "source": [
    "# Solve the error by type casting the integer to a string\n",
    "\n",
    "print('The print function can take two or more input parameters: a = ' + str(a))"
   ]
  },
  {
   "cell_type": "markdown",
   "id": "f8679b86-d991-44b7-a1c5-c35db5cf236a",
   "metadata": {},
   "source": [
    "## Two additionally useful data structures"
   ]
  },
  {
   "cell_type": "markdown",
   "id": "d8fc76a5-2de8-41ba-a654-7c47018688ca",
   "metadata": {},
   "source": [
    "Two of the most common data structures in Python are lists and dictionaries."
   ]
  },
  {
   "cell_type": "markdown",
   "id": "7756f34d",
   "metadata": {},
   "source": [
    "### List\n",
    "* an ordered collection of elements\n",
    "* elements are placed in square brackets `[]` and separated by commas\n",
    "* they can have elements of different types\n",
    "* the index operator `[]` with an integer index will retrieve an element at that index\n",
    "* negative indices can be used to count from the end of the list"
   ]
  },
  {
   "cell_type": "code",
   "execution_count": null,
   "id": "d6079da4-3a64-489a-8670-04af6f5c736f",
   "metadata": {},
   "outputs": [],
   "source": [
    "# empty list\n",
    "my_list = []\n",
    "\n",
    "# list of integers\n",
    "my_list = [1, 2, 5]\n",
    "\n",
    "# list with mixed data types\n",
    "my_list = [1, \"Parrot\", 3.14159]"
   ]
  },
  {
   "cell_type": "code",
   "execution_count": null,
   "id": "893069a3-1e42-445b-888c-ee46eee17ad0",
   "metadata": {},
   "outputs": [],
   "source": [
    "riddles = [\"Lancelot\", \"Holy Grail\", \"Blue\", \"Southwest\"]\n",
    "\n",
    "# Accessing first element\n",
    "print(riddles[0])\n",
    "\n",
    "# Accessing fourth element\n",
    "print(riddles[3])"
   ]
  },
  {
   "cell_type": "markdown",
   "id": "75269d77-f6f2-426e-9765-da7a5d626d35",
   "metadata": {},
   "source": [
    "<div class=\"alert alert-info\">\n",
    "\n",
    "<b>Your turn:</b>\n",
    "\n",
    "1. Make a variable whose value is a list\n",
    "2. Print an element (or elements) from the list using the appropriate indexing.\n",
    "\n",
    "</div>"
   ]
  },
  {
   "cell_type": "code",
   "execution_count": null,
   "id": "7dc2e4fe-5852-4b0b-81c8-ba59db2ef6fd",
   "metadata": {},
   "outputs": [],
   "source": []
  },
  {
   "cell_type": "markdown",
   "id": "2e5c16bf",
   "metadata": {},
   "source": [
    "### Dictionary\n",
    "* an unordered collection of elements\n",
    "* elements consist of `key: value` pairs\n",
    "* elements are placed in curly braces `{}` and separated by commas\n",
    "* they can have elements of different types\n",
    "* the index operator `[]` with a key index will retrieve the value corresponding to that key    "
   ]
  },
  {
   "cell_type": "code",
   "execution_count": null,
   "id": "a2212dc8-7ae4-423a-ae3b-1a1ccd024f8a",
   "metadata": {},
   "outputs": [],
   "source": [
    "# empty dictionary\n",
    "my_dict = {}\n",
    "\n",
    "# dictionary with integer keys\n",
    "my_dict = {1: 'red', 2: 'blue'}\n",
    "\n",
    "# dictionary with mixed keys\n",
    "my_dict = {'name': 'Arthur', 1: [1, 2, 5]}"
   ]
  },
  {
   "cell_type": "code",
   "execution_count": null,
   "id": "4f6288f7-d9d1-49e3-bc09-8b84451ee646",
   "metadata": {},
   "outputs": [],
   "source": [
    "person = {'name':'Gwen', 'age': 26, 'salary': 94534.2}\n",
    "print(person['age'])"
   ]
  },
  {
   "cell_type": "code",
   "execution_count": null,
   "id": "dbd00feb-1607-4e8a-8b52-46d9753f7083",
   "metadata": {},
   "outputs": [],
   "source": [
    "person = {'name':'Gwen', 'age': 26}\n",
    "\n",
    "# Changing age to 36\n",
    "person['age'] = 36 \n",
    "print(person) # Output: {'name': 'Gwen', 'age': 36}\n",
    "\n",
    "# Adding salary key, value pair\n",
    "person['salary'] = 94342.4\n",
    "print(person) # Output: {'name': 'Gwen', 'age': 36, 'salary': 94342.4}\n",
    "\n",
    "# Deleting age\n",
    "del person['age']\n",
    "print(person) # Output: {'name': 'Gwen', 'salary': 94342.4}\n",
    "\n",
    "# Deleting entire dictionary\n",
    "del person"
   ]
  },
  {
   "cell_type": "markdown",
   "id": "36a12053-77d7-4ef7-9ad7-1bdc295395ae",
   "metadata": {},
   "source": [
    "<div class=\"alert alert-info\">\n",
    "\n",
    "<b>Your turn:</b>\n",
    "\n",
    "1. Make a variable whose value is a dictionary\n",
    "2. Print an item (or item) from the dictionary using the appropriate indexing.\n",
    "3. Add a new item to your dictionary, and then print the entire dictionary to confirm the item has been added.\n",
    "\n",
    "</div>"
   ]
  },
  {
   "cell_type": "code",
   "execution_count": null,
   "id": "d2f80e62",
   "metadata": {},
   "outputs": [],
   "source": []
  },
  {
   "cell_type": "code",
   "execution_count": null,
   "id": "bb9ff4e4-b3ed-4223-ad8f-b4b699bd91c7",
   "metadata": {},
   "outputs": [],
   "source": []
  },
  {
   "cell_type": "code",
   "execution_count": null,
   "id": "2672d215",
   "metadata": {},
   "outputs": [],
   "source": []
  },
  {
   "cell_type": "markdown",
   "id": "b9931b82",
   "metadata": {},
   "source": [
    "## Flow control"
   ]
  },
  {
   "cell_type": "code",
   "execution_count": null,
   "id": "ba0d0e8a-141d-4a1f-bba3-e58190eb6512",
   "metadata": {},
   "outputs": [],
   "source": [
    "# List example\n",
    "\n",
    "p = 1000\n",
    "r = 0.05\n",
    "c = 6500\n",
    "\n",
    "balance_list = [p*(1 + r)**5 + c*( ((1 + r)**(5+1) - (1 + r)) / r ),\n",
    "                p*(1 + r)**10 + c*( ((1 + r)**(10+1) - (1 + r)) / r ),\n",
    "                p*(1 + r)**15 + c*( ((1 + r)**(15+1) - (1 + r)) / r ),\n",
    "                p*(1 + r)**20 + c*( ((1 + r)**(20+1) - (1 + r)) / r )]\n",
    "\n",
    "print(balance_list)\n",
    "print(balance_list[2])"
   ]
  },
  {
   "cell_type": "code",
   "execution_count": null,
   "id": "757f9eff-e5bf-46e8-86d3-f3d0d3e6c3ff",
   "metadata": {},
   "outputs": [],
   "source": [
    "# Dictionary example\n",
    "\n",
    "p = 1000\n",
    "r = 0.05\n",
    "c = 6500\n",
    "\n",
    "balance_dictionary = {5: p*(1 + r)**5 + c*( ((1 + r)**(5+1) - (1 + r)) / r ),\n",
    "                      10: p*(1 + r)**10 + c*( ((1 + r)**(10+1) - (1 + r)) / r ),\n",
    "                      15: p*(1 + r)**15 + c*( ((1 + r)**(15+1) - (1 + r)) / r ),\n",
    "                      20: p*(1 + r)**20 + c*( ((1 + r)**(20+1) - (1 + r)) / r )}\n",
    "\n",
    "print(balance_dictionary)\n",
    "\n",
    "#\n",
    "# this will give an error!\n",
    "# \n",
    "print(balance_dictionary[2])\n",
    "\n",
    "# -> how do we index balance_dictionary to get output like above?"
   ]
  },
  {
   "cell_type": "markdown",
   "id": "8057218a",
   "metadata": {},
   "source": [
    "Replicating the equation four times for four different values is tedious, plus it's prone to error when revising the equations.  What if you simply miss one number?\n",
    "\n",
    "Automating repetition is useful, as is controling the logical flow of your commands."
   ]
  },
  {
   "cell_type": "markdown",
   "id": "ceca517d",
   "metadata": {},
   "source": [
    "### for loops"
   ]
  },
  {
   "cell_type": "markdown",
   "id": "71768cdc",
   "metadata": {},
   "source": [
    "In Python, a `for` loop is used to iterate over a sequence (list, string, etc) or other iterable objects. Iterating over a sequence is called traversal.\n",
    "\n",
    "```\n",
    "for <iter_variable> in <sequence>:\n",
    "    <statement1>\n",
    "    <statement2>\n",
    "        ...\n",
    "```  \n",
    "\n",
    "* starts with a `for`\n",
    "* the \\<iter_variable\\> can be any name you want (except Python keyword)\n",
    "* the \\<sequence\\> is what you iterate over\n",
    "* end the for statement with `:`\n",
    "* indent those Python commands that should be executed for every item in \\<sequence\\>\n",
    "    "
   ]
  },
  {
   "cell_type": "code",
   "execution_count": null,
   "id": "61a7b8ea",
   "metadata": {},
   "outputs": [],
   "source": [
    "numbers = [1, 1, 2, 3, 5, 8]\n",
    "\n",
    "# iterate over the list\n",
    "for val in numbers:\n",
    "    print(val)\n",
    "print(5)"
   ]
  },
  {
   "cell_type": "markdown",
   "id": "bb46b07b",
   "metadata": {},
   "source": [
    "**Note:** Python uses indentation to define blocks of code\n",
    "* this is not merely a matter of style in Python\n",
    "* a code block starts with indentation and ends with the first unindented line\n",
    "* it is up to you how many spaces you want to use for indentation, as long as you are consistent\n",
    "* you can not mix tabs and spaces -- here in Jupyter, the indentation is set automatically to 4 spaces\n",
    "    * generally, four whitespaces are used for indentation and is preferred over tabs."
   ]
  },
  {
   "cell_type": "code",
   "execution_count": null,
   "id": "921b0280",
   "metadata": {},
   "outputs": [],
   "source": [
    "for val in numbers:\n",
    "    print(val)\n",
    "    print(\"I am inside the body of the for loop.\")\n",
    "    print(\"I am also inside the body of the for loop.\")\n",
    "print(\"I am outside the body of the for loop\")"
   ]
  },
  {
   "cell_type": "markdown",
   "id": "bd45f8cb",
   "metadata": {},
   "source": [
    "Here's an example to find the sum of all numbers stored in a list."
   ]
  },
  {
   "cell_type": "code",
   "execution_count": null,
   "id": "236e0b09",
   "metadata": {},
   "outputs": [],
   "source": [
    "numbers = [1, 1, 2, 3, 5, 8]\n",
    "\n",
    "sum = 0\n",
    "\n",
    "# iterate over the list\n",
    "for val in numbers:\n",
    "    sum = sum + val\n",
    "\n",
    "print(\"The sum is\", sum) # Output: The sum is 20"
   ]
  },
  {
   "cell_type": "markdown",
   "id": "27623786",
   "metadata": {},
   "source": [
    "Automating our `balances` example:"
   ]
  },
  {
   "cell_type": "code",
   "execution_count": null,
   "id": "721ecd4d",
   "metadata": {},
   "outputs": [],
   "source": [
    "p = 1000\n",
    "r = 0.05\n",
    "c = 6500\n",
    "\n",
    "balances = {}\n",
    "for i in [5,10,15,20,25,30]:\n",
    "    balances[i] = p*(1 + r)**i + c*( ((1 + r)**(i+1) - (1 + r)) / r )\n",
    "\n",
    "print(balances)"
   ]
  },
  {
   "cell_type": "markdown",
   "id": "3bc9a560",
   "metadata": {},
   "source": [
    "`for` loops can also be used to iterate a given number of times with the special function `range`:\n",
    "* `range(n)` returns a sequence of numbers from 0 to n (n not included)\n",
    "* `range(n,m)` returns a sequence of numbers from n to m (m not included)\n",
    "* `range(n,m,i)` returns a sequence of numbers from n to m (m not included) with an interval of i between numbers"
   ]
  },
  {
   "cell_type": "code",
   "execution_count": null,
   "id": "abb47a2b",
   "metadata": {},
   "outputs": [],
   "source": [
    "for disneytrip in range(10):\n",
    "    print(str(disneytrip) + ': Are we there yet?')"
   ]
  },
  {
   "cell_type": "markdown",
   "id": "a75f04cb",
   "metadata": {},
   "source": [
    "<div class=\"alert alert-info\">\n",
    "\n",
    "<b>Your turn:</b> Create a for loop that prints the sequence 1, 2, 5\n",
    "    \n",
    "</div>"
   ]
  },
  {
   "cell_type": "code",
   "execution_count": null,
   "id": "03407884",
   "metadata": {},
   "outputs": [],
   "source": []
  },
  {
   "cell_type": "markdown",
   "id": "930ac570-2e52-4308-b274-3799ba68684d",
   "metadata": {},
   "source": [
    "### If/else statements\n",
    "`if`, `elif`, and `else` allow you to execute Python commands only if some condition is satisfied.\n",
    "\n",
    "```\n",
    "if <boolean condition>:\n",
    "    <statement>\n",
    "    <statement>\n",
    "        ...\n",
    "elif <boolean_condition>:\n",
    "    <statement>\n",
    "    <statement>\n",
    "        ...\n",
    "elif <boolean_condition>:\n",
    "    <statement>\n",
    "    <statement>\n",
    "        ...\n",
    "...\n",
    "else:\n",
    "    <statement>\n",
    "    <statement>\n",
    "        ...\n",
    "```  \n",
    "\n",
    "* starts with an `if`\n",
    "* the \\<boolean condition\\> is something that is True or False\n",
    "* end the if statement with `:`\n",
    "* if the boolean condition is true, execute the statements\n",
    "* otherwise proceed to the next `elif` or `else` lines\n",
    "* `elif` proceeds similarly as described for the `if`\n",
    "* `else` gets executed if nothing has been True\n",
    "* all elif and else lines are optional\n",
    "    "
   ]
  },
  {
   "cell_type": "markdown",
   "id": "2ca4e635",
   "metadata": {},
   "source": [
    "Mathematical conditions:\n",
    "* These are rather straight-forward, but try making a few if/elif/else statements to check the True and False values.\n",
    "* Equals: `==`\n",
    "* Does not equal: `!=`\n",
    "* Less than: `<`\n",
    "* Less than or equal to: `<=`\n",
    "* Greater than: `>`\n",
    "* Greater than or equal to: `>=`\n",
    "\n",
    "Boolean combinations:\n",
    "* You can evaluate more than one True/False condition in the statements by combining conditions with `and`, `or`, and `not`"
   ]
  },
  {
   "cell_type": "code",
   "execution_count": null,
   "id": "cb0f5bf2-3c86-4cb5-90d2-1c67f535a01d",
   "metadata": {},
   "outputs": [],
   "source": [
    "num = 0\n",
    "\n",
    "if num > 0:\n",
    "    print(\"Positive number\")\n",
    "elif num == 0:\n",
    "    print(\"Zero\")\n",
    "else:\n",
    "    print(\"Negative number\")\n",
    "    \n",
    "# Output: Negative number"
   ]
  },
  {
   "cell_type": "code",
   "execution_count": null,
   "id": "03431402",
   "metadata": {},
   "outputs": [],
   "source": [
    "balances"
   ]
  },
  {
   "cell_type": "code",
   "execution_count": null,
   "id": "ec18b70e",
   "metadata": {},
   "outputs": [],
   "source": [
    "p = 1000\n",
    "r = 0.05\n",
    "c = 6500\n",
    "\n",
    "# Print up to year 60...\n",
    "for i in range(60):\n",
    "    if i % 5 == 0:\n",
    "        balances[i] = p*(1 + r)**i + c*( ((1 + r)**(i+1) - (1 + r)) / r )\n",
    "\n",
    "print(balances)"
   ]
  },
  {
   "cell_type": "markdown",
   "id": "b917d8bb",
   "metadata": {},
   "source": [
    "What happened?"
   ]
  },
  {
   "cell_type": "code",
   "execution_count": null,
   "id": "ee147b32",
   "metadata": {},
   "outputs": [],
   "source": [
    "p = 1000\n",
    "r = 0.05\n",
    "c = 6500\n",
    "\n",
    "# Print up to year 60\n",
    "balances = {}\n",
    "for i in range(61):\n",
    "    if i % 5 == 0:\n",
    "        balances[i] = p*(1 + r)**i + c*( ((1 + r)**(i+1) - (1 + r)) / r )\n",
    "\n",
    "print(balances)"
   ]
  },
  {
   "cell_type": "markdown",
   "id": "624deeff",
   "metadata": {},
   "source": [
    "<div class=\"alert alert-info\">\n",
    "\n",
    "<b>Your turn:</b> Execute the cell below and make sure you understand its logic.  Then try assigning different values to `claim` and re-executing the cell several times to make sure you can follow the logic of the resulting print statement.  Intersperse other conditions as well as boolean combinations.\n",
    "    \n",
    "</div>"
   ]
  },
  {
   "cell_type": "code",
   "execution_count": null,
   "id": "cb85a8c6-b5da-4370-a6d2-d1b34aabbcdb",
   "metadata": {},
   "outputs": [],
   "source": [
    "# Switch the value of claim to check the logic\n",
    "\n",
    "claim = 5\n",
    "if claim == 1 or claim == 2:\n",
    "    print('do not throw the grenade yet')\n",
    "elif claim == 3:\n",
    "    print('throw the grenade')\n",
    "elif claim == 5:\n",
    "    print('Silly Arthur.  3 comes after 2.')\n",
    "else:\n",
    "    print('You are too late - kaboom!')"
   ]
  },
  {
   "cell_type": "markdown",
   "id": "ffbc4642-4c4e-42e5-a122-3de9ed8cfcc9",
   "metadata": {},
   "source": [
    "## Functions"
   ]
  },
  {
   "cell_type": "markdown",
   "id": "1b08dd55",
   "metadata": {},
   "source": [
    "**Functions** contain organized, reusable code to perform an action.\n",
    "\n",
    "Python has several built-in functions (https://docs.python.org/3/library/functions.html)."
   ]
  },
  {
   "cell_type": "code",
   "execution_count": null,
   "id": "1ea44727",
   "metadata": {},
   "outputs": [],
   "source": [
    "print(a)"
   ]
  },
  {
   "cell_type": "code",
   "execution_count": null,
   "id": "7af3ddc7",
   "metadata": {},
   "outputs": [],
   "source": [
    "str(a)"
   ]
  },
  {
   "cell_type": "code",
   "execution_count": null,
   "id": "c8c9e99e",
   "metadata": {},
   "outputs": [],
   "source": [
    "len('Hello world')"
   ]
  },
  {
   "cell_type": "code",
   "execution_count": null,
   "id": "aa08661f",
   "metadata": {},
   "outputs": [],
   "source": [
    "type('Hello world')"
   ]
  },
  {
   "cell_type": "markdown",
   "id": "90aab33e-56de-4edb-8e6a-c972094d6d6d",
   "metadata": {},
   "source": [
    "We can also write our own. \n",
    "\n",
    "```\n",
    "def <name>(arg1, arg2, ..., argN):\n",
    "    <statements>\n",
    "    return <value>\n",
    "```\n",
    "\n",
    "* Functions start with the `def` keyword,\n",
    "* then the function name, \n",
    "* followed immediately by parentheses that enclose a parameter list,\n",
    "* and then a `:`\n",
    "* The function body falls on subsequent lines\n",
    "* The function ends when the indentation stops"
   ]
  },
  {
   "cell_type": "code",
   "execution_count": null,
   "id": "07200b40-c01b-42c7-98df-b79d13ff3e71",
   "metadata": {},
   "outputs": [],
   "source": [
    "def f():\n",
    "    print('Hello World!')"
   ]
  },
  {
   "cell_type": "code",
   "execution_count": null,
   "id": "996a76a4-10ff-41e7-a27f-4d7f7b76ec26",
   "metadata": {},
   "outputs": [],
   "source": [
    "# You need to call it to see any output or retrieve returned values\n",
    "f()"
   ]
  },
  {
   "cell_type": "code",
   "execution_count": null,
   "id": "c9b3ee14-6d0f-4109-93c7-b9f3e01b8f06",
   "metadata": {},
   "outputs": [],
   "source": [
    "def f2(a=2):\n",
    "    return a*2"
   ]
  },
  {
   "cell_type": "code",
   "execution_count": null,
   "id": "b6c4353d-9f0e-438b-802c-d859554848d1",
   "metadata": {},
   "outputs": [],
   "source": [
    "f2('Phone')"
   ]
  },
  {
   "cell_type": "code",
   "execution_count": null,
   "id": "5473c025-e6d4-458c-9e45-6f699cca3af2",
   "metadata": {},
   "outputs": [],
   "source": [
    "b = f2(4)"
   ]
  },
  {
   "cell_type": "code",
   "execution_count": null,
   "id": "98ebcc9c",
   "metadata": {},
   "outputs": [],
   "source": [
    "b"
   ]
  },
  {
   "cell_type": "code",
   "execution_count": null,
   "id": "18cbfff2-acbd-4e62-8d6b-d47f7ecd277c",
   "metadata": {},
   "outputs": [],
   "source": [
    "def f(p,r,y,c):\n",
    "    return p*(1 + r)**y + c*( ((1 + r)**(y+1) - (1 + r)) / r )"
   ]
  },
  {
   "cell_type": "code",
   "execution_count": null,
   "id": "3a5dab76-dbef-4c14-b93a-1554f25eeb4d",
   "metadata": {},
   "outputs": [],
   "source": [
    "year = 1\n",
    "principal = 5000\n",
    "rate = 0.05\n",
    "annual_contribution = 1000\n",
    "f(principal, rate, year, annual_contribution)"
   ]
  },
  {
   "cell_type": "markdown",
   "id": "02a0ad86-cd86-408d-9e93-d3ad88319010",
   "metadata": {},
   "source": [
    "Functions are useful, of course, for more complicated machinations."
   ]
  },
  {
   "cell_type": "code",
   "execution_count": null,
   "id": "277e87c4-f1b9-4a1c-9831-0d39f04ba8d2",
   "metadata": {},
   "outputs": [],
   "source": [
    "def f2digit(p,r,y,c):\n",
    "    r = r/100\n",
    "    amountsaved = '{:,.2f}'.format(p*(1 + r)**y + c*( ((1 + r)**(y+1) - (1 + r)) / r ))\n",
    "    saying = \"If you save for \" + str(y) + \" years, then you'll have $\" + amountsaved + \" in your retirement.\"\n",
    "    return saying"
   ]
  },
  {
   "cell_type": "code",
   "execution_count": null,
   "id": "9087c80f-b68b-4ee7-b343-28a0aac4b384",
   "metadata": {},
   "outputs": [],
   "source": [
    "year = 45\n",
    "principal = 1000\n",
    "rate = 5\n",
    "annual_contribution = 6500\n",
    "f2digit(principal, rate, year, annual_contribution)"
   ]
  },
  {
   "cell_type": "markdown",
   "id": "9d440e75-6045-41b3-8e20-f9f22749160e",
   "metadata": {},
   "source": [
    "<div class=\"alert alert-info\">\n",
    "\n",
    "<b>Your turn:</b>\n",
    "\n",
    "1. Write your own function definition\n",
    "2. Call your function several times to make sure it works\n",
    "    \n",
    "</div>"
   ]
  },
  {
   "cell_type": "code",
   "execution_count": null,
   "id": "f9f64c05-b8fd-4de0-bb71-8b7241f7e1fc",
   "metadata": {},
   "outputs": [],
   "source": [
    "# Enter your code for #1 here:\n"
   ]
  },
  {
   "cell_type": "code",
   "execution_count": null,
   "id": "5ae45fc4-44d6-44ac-b974-40760798f195",
   "metadata": {},
   "outputs": [],
   "source": [
    "# Enter your code for #2 here:\n"
   ]
  },
  {
   "cell_type": "markdown",
   "id": "ac8f44e7-55b2-4a99-8964-c6842c39a785",
   "metadata": {},
   "source": [
    "## Methods"
   ]
  },
  {
   "cell_type": "markdown",
   "id": "1861f211-ae59-4e29-948c-88e34049d9c6",
   "metadata": {},
   "source": [
    "Variables in Python are actually objects (yes, in the object-oriented sense of object).\n",
    "\n",
    "Python variables can therefore have attributes and methods associated with them."
   ]
  },
  {
   "cell_type": "code",
   "execution_count": null,
   "id": "98eb0ff1-3fd3-487a-a626-36edc6192c3e",
   "metadata": {},
   "outputs": [],
   "source": [
    "numbers"
   ]
  },
  {
   "cell_type": "code",
   "execution_count": null,
   "id": "4f0b267d-8532-4988-94bb-39347e81ca3d",
   "metadata": {},
   "outputs": [],
   "source": [
    "type(numbers)"
   ]
  },
  {
   "cell_type": "code",
   "execution_count": null,
   "id": "11aef6c6-1a05-410c-a506-605707853577",
   "metadata": {},
   "outputs": [],
   "source": [
    "numbers.index(5)"
   ]
  },
  {
   "cell_type": "markdown",
   "id": "0f85726f-16e9-487f-88eb-85819f2a9da5",
   "metadata": {},
   "source": [
    "The `.` notation is used to denote that we are using the `index` method associated with the `numbers` list variable, and passing `5` as the input parameter to that method.\n",
    "\n",
    "It tells us that the value `5` is in the `numbers` list at index 4."
   ]
  },
  {
   "cell_type": "code",
   "execution_count": null,
   "id": "3b2786ef-ce82-4c09-b14a-f76dedd35bb7",
   "metadata": {},
   "outputs": [],
   "source": [
    "numbers[4]"
   ]
  },
  {
   "cell_type": "markdown",
   "id": "4f85dcdd-9106-42f7-ad44-7aa579c38b3d",
   "metadata": {},
   "source": [
    "The `reverse` method will reverse the elements in-place."
   ]
  },
  {
   "cell_type": "code",
   "execution_count": null,
   "id": "17713577-8fb1-4e2c-ab03-2d5ff9fdd48c",
   "metadata": {},
   "outputs": [],
   "source": [
    "numbers.reverse()"
   ]
  },
  {
   "cell_type": "code",
   "execution_count": null,
   "id": "88ff4551-a7fd-47f4-9d10-68a2e6668b3c",
   "metadata": {},
   "outputs": [],
   "source": [
    "numbers"
   ]
  },
  {
   "cell_type": "markdown",
   "id": "cd5cbeba-31df-4917-abe9-d95ef6881496",
   "metadata": {},
   "source": [
    "Strings and dictionaries also have methods."
   ]
  },
  {
   "cell_type": "code",
   "execution_count": null,
   "id": "7c07dfbf-b1d5-4275-8571-7eeb61cc73cd",
   "metadata": {},
   "outputs": [],
   "source": [
    "# 'split' splits a string into a list of elements\n",
    "# the splitting happens by default on whitespace\n",
    "\n",
    "'My name is Ben'.split()"
   ]
  },
  {
   "cell_type": "code",
   "execution_count": null,
   "id": "523cacce-d10d-43d8-8f88-b22599485223",
   "metadata": {},
   "outputs": [],
   "source": [
    "# 'join' is a string method that creates a single string from a list\n",
    "\n",
    "'-'.join(['Combo','words','are','in','this','list'])"
   ]
  },
  {
   "cell_type": "markdown",
   "id": "49559b94-a4aa-4231-a923-77505f605440",
   "metadata": {},
   "source": [
    "## Modules"
   ]
  },
  {
   "cell_type": "markdown",
   "id": "8a0267dd-d355-4891-9766-c3ba923581ae",
   "metadata": {},
   "source": [
    "A lot of coders have written Python code that you can easily reuse.  "
   ]
  },
  {
   "cell_type": "code",
   "execution_count": null,
   "id": "26ab68c8-222f-4e17-8e3d-796adc11c03c",
   "metadata": {},
   "outputs": [],
   "source": [
    "# Example:\n",
    "\n",
    "# retrieve the `math` module\n",
    "import math\n",
    "\n",
    "# use constants stored in the module\n",
    "print('pi = ', math.pi)\n",
    "\n",
    "# use functions written in the module\n",
    "print('The value of sin(pi/2) is', math.sin(math.pi/2))"
   ]
  },
  {
   "cell_type": "code",
   "execution_count": null,
   "id": "c644822c",
   "metadata": {},
   "outputs": [],
   "source": [
    "# Example:\n",
    "\n",
    "# retrieve the `math` module\n",
    "import math as ma\n",
    "\n",
    "# use constants stored in the module\n",
    "print('pi = ', ma.pi)\n",
    "\n",
    "# use functions written in the module\n",
    "print('The value of sin(pi/2) is', ma.sin(ma.pi/2))"
   ]
  },
  {
   "cell_type": "markdown",
   "id": "9f56c3eb-87d3-434c-a813-5d71eadecdb8",
   "metadata": {},
   "source": [
    "Some code comes standard with every Python installation.  Other code needs to be retrieved and installed.  However, once you have the code, it can dramatically expand your coding capabilities.\n",
    "\n",
    "Modules allow us to use externally developed code.\n",
    "* A module is a group of code items such as functions that are related to one another. Individual modules are often grouped together as a library.\n",
    "* Modules can be loaded using `import <modulename>`. \n",
    "* Functions that are part of the module `modulename` can then be used by typing `modulename.functionname()`. \n",
    "  * For example, `sin()` is a function that is part of the `math` module\n",
    "  * We can use to by typing `math.sin()` with some number between the parentheses.\n",
    "* Modules may also contain constants in addition to functions.\n",
    "  * The `math` module includes a constant for $\\pi$ -- `math.pi`"
   ]
  },
  {
   "cell_type": "code",
   "execution_count": null,
   "id": "6337af22-6330-4318-a048-9659fc165ab4",
   "metadata": {},
   "outputs": [],
   "source": [
    "# Example from our sample code:\n",
    "\n",
    "import sample"
   ]
  },
  {
   "cell_type": "code",
   "execution_count": null,
   "id": "85f82b84-a373-47f3-a110-dba71ec80e76",
   "metadata": {},
   "outputs": [],
   "source": [
    "sample.x"
   ]
  },
  {
   "cell_type": "code",
   "execution_count": null,
   "id": "42e30666-7c75-4b83-b31a-805bba4c39ff",
   "metadata": {},
   "outputs": [],
   "source": [
    "sample.y"
   ]
  },
  {
   "cell_type": "code",
   "execution_count": null,
   "id": "bb02b658-a217-4664-b690-e8d7ca7f5cc6",
   "metadata": {},
   "outputs": [],
   "source": [
    "sample.z"
   ]
  },
  {
   "cell_type": "markdown",
   "id": "f0a96ed5-5bdd-41f1-974f-fd0f950cc17c",
   "metadata": {},
   "source": [
    "# End"
   ]
  }
 ],
 "metadata": {
  "kernelspec": {
   "display_name": "Python 3 (ipykernel)",
   "language": "python",
   "name": "python3"
  },
  "language_info": {
   "codemirror_mode": {
    "name": "ipython",
    "version": 3
   },
   "file_extension": ".py",
   "mimetype": "text/x-python",
   "name": "python",
   "nbconvert_exporter": "python",
   "pygments_lexer": "ipython3",
   "version": "3.10.18"
  }
 },
 "nbformat": 4,
 "nbformat_minor": 5
}
